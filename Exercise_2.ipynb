{
  "nbformat": 4,
  "nbformat_minor": 0,
  "metadata": {
    "colab": {
      "provenance": [],
      "authorship_tag": "ABX9TyMk9SxoDTM9iIAfyR5plrki",
      "include_colab_link": true
    },
    "kernelspec": {
      "name": "python3",
      "display_name": "Python 3"
    },
    "language_info": {
      "name": "python"
    }
  },
  "cells": [
    {
      "cell_type": "markdown",
      "metadata": {
        "id": "view-in-github",
        "colab_type": "text"
      },
      "source": [
        "<a href=\"https://colab.research.google.com/github/PaulGeorge124/CSST102-3B/blob/main/Exercise_2.ipynb\" target=\"_parent\"><img src=\"https://colab.research.google.com/assets/colab-badge.svg\" alt=\"Open In Colab\"/></a>"
      ]
    },
    {
      "cell_type": "markdown",
      "source": [
        "## Exercise 1: Data Exploration and Preprocessing"
      ],
      "metadata": {
        "id": "xg5HYuScxmW-"
      }
    },
    {
      "cell_type": "markdown",
      "source": [
        "**1,Load and Explore the Data:v**"
      ],
      "metadata": {
        "id": "fYvbxYzQxtFJ"
      }
    },
    {
      "cell_type": "code",
      "source": [
        "import pandas as pd\n",
        "import numpy as np\n",
        "\n",
        "\n",
        "data = pd.read_csv('Breast Cancer Diagnosis Dataset with Tumor Characteristics.csv')\n",
        "\n",
        "numeric_data = data.select_dtypes(include=[np.number])\n",
        "\n",
        "\n",
        "variances = numeric_data.var()\n",
        "\n",
        "print(variances.sort_values(ascending=False))\n"
      ],
      "metadata": {
        "colab": {
          "base_uri": "https://localhost:8080/"
        },
        "id": "z5q0gkxRzHyb",
        "outputId": "37123acd-7d5f-4d54-ff33-896b6c4b04fc"
      },
      "execution_count": 9,
      "outputs": [
        {
          "output_type": "stream",
          "name": "stdout",
          "text": [
            "id                         1.563015e+16\n",
            "area_worst                 3.241674e+05\n",
            "area_mean                  1.238436e+05\n",
            "area_se                    2.069432e+03\n",
            "perimeter_worst            1.129131e+03\n",
            "perimeter_mean             5.904405e+02\n",
            "texture_worst              3.777648e+01\n",
            "radius_worst               2.336022e+01\n",
            "texture_mean               1.849891e+01\n",
            "radius_mean                1.241892e+01\n",
            "perimeter_se               4.087896e+00\n",
            "texture_se                 3.043159e-01\n",
            "radius_se                  7.690235e-02\n",
            "concavity_worst            4.352409e-02\n",
            "compactness_worst          2.475477e-02\n",
            "concavity_mean             6.355248e-03\n",
            "concave points_worst       4.320741e-03\n",
            "symmetry_worst             3.827584e-03\n",
            "compactness_mean           2.789187e-03\n",
            "concave points_mean        1.505661e-03\n",
            "concavity_se               9.111982e-04\n",
            "symmetry_mean              7.515428e-04\n",
            "smoothness_worst           5.213198e-04\n",
            "fractal_dimension_worst    3.262094e-04\n",
            "compactness_se             3.207029e-04\n",
            "smoothness_mean            1.977997e-04\n",
            "symmetry_se                6.833290e-05\n",
            "fractal_dimension_mean     4.984872e-05\n",
            "concave points_se          3.807242e-05\n",
            "smoothness_se              9.015114e-06\n",
            "fractal_dimension_se       7.001692e-06\n",
            "Unnamed: 32                         NaN\n",
            "dtype: float64\n"
          ]
        }
      ]
    },
    {
      "cell_type": "code",
      "execution_count": 2,
      "metadata": {
        "colab": {
          "base_uri": "https://localhost:8080/"
        },
        "id": "0Yop4XPsw6Re",
        "outputId": "a800064f-a9da-4df4-fb9a-11e0f6a72577"
      },
      "outputs": [
        {
          "output_type": "stream",
          "name": "stdout",
          "text": [
            "         id diagnosis  radius_mean  texture_mean  perimeter_mean  area_mean  \\\n",
            "0    842302         M        17.99         10.38          122.80     1001.0   \n",
            "1    842517         M        20.57         17.77          132.90     1326.0   \n",
            "2  84300903         M        19.69         21.25          130.00     1203.0   \n",
            "3  84348301         M        11.42         20.38           77.58      386.1   \n",
            "4  84358402         M        20.29         14.34          135.10     1297.0   \n",
            "5    843786         M        12.45         15.70           82.57      477.1   \n",
            "6    844359         M        18.25         19.98          119.60     1040.0   \n",
            "7  84458202         M        13.71         20.83           90.20      577.9   \n",
            "8    844981         M        13.00         21.82           87.50      519.8   \n",
            "9  84501001         M        12.46         24.04           83.97      475.9   \n",
            "\n",
            "   smoothness_mean  compactness_mean  concavity_mean  concave points_mean  \\\n",
            "0          0.11840           0.27760         0.30010              0.14710   \n",
            "1          0.08474           0.07864         0.08690              0.07017   \n",
            "2          0.10960           0.15990         0.19740              0.12790   \n",
            "3          0.14250           0.28390         0.24140              0.10520   \n",
            "4          0.10030           0.13280         0.19800              0.10430   \n",
            "5          0.12780           0.17000         0.15780              0.08089   \n",
            "6          0.09463           0.10900         0.11270              0.07400   \n",
            "7          0.11890           0.16450         0.09366              0.05985   \n",
            "8          0.12730           0.19320         0.18590              0.09353   \n",
            "9          0.11860           0.23960         0.22730              0.08543   \n",
            "\n",
            "   ...  texture_worst  perimeter_worst  area_worst  smoothness_worst  \\\n",
            "0  ...          17.33           184.60      2019.0            0.1622   \n",
            "1  ...          23.41           158.80      1956.0            0.1238   \n",
            "2  ...          25.53           152.50      1709.0            0.1444   \n",
            "3  ...          26.50            98.87       567.7            0.2098   \n",
            "4  ...          16.67           152.20      1575.0            0.1374   \n",
            "5  ...          23.75           103.40       741.6            0.1791   \n",
            "6  ...          27.66           153.20      1606.0            0.1442   \n",
            "7  ...          28.14           110.60       897.0            0.1654   \n",
            "8  ...          30.73           106.20       739.3            0.1703   \n",
            "9  ...          40.68            97.65       711.4            0.1853   \n",
            "\n",
            "   compactness_worst  concavity_worst  concave points_worst  symmetry_worst  \\\n",
            "0             0.6656           0.7119                0.2654          0.4601   \n",
            "1             0.1866           0.2416                0.1860          0.2750   \n",
            "2             0.4245           0.4504                0.2430          0.3613   \n",
            "3             0.8663           0.6869                0.2575          0.6638   \n",
            "4             0.2050           0.4000                0.1625          0.2364   \n",
            "5             0.5249           0.5355                0.1741          0.3985   \n",
            "6             0.2576           0.3784                0.1932          0.3063   \n",
            "7             0.3682           0.2678                0.1556          0.3196   \n",
            "8             0.5401           0.5390                0.2060          0.4378   \n",
            "9             1.0580           1.1050                0.2210          0.4366   \n",
            "\n",
            "   fractal_dimension_worst  Unnamed: 32  \n",
            "0                  0.11890          NaN  \n",
            "1                  0.08902          NaN  \n",
            "2                  0.08758          NaN  \n",
            "3                  0.17300          NaN  \n",
            "4                  0.07678          NaN  \n",
            "5                  0.12440          NaN  \n",
            "6                  0.08368          NaN  \n",
            "7                  0.11510          NaN  \n",
            "8                  0.10720          NaN  \n",
            "9                  0.20750          NaN  \n",
            "\n",
            "[10 rows x 33 columns]\n"
          ]
        }
      ],
      "source": [
        "import pandas as pd\n",
        "data = pd.read_csv('Breast Cancer Diagnosis Dataset with Tumor Characteristics.csv')\n",
        "print(data.head(10))\n"
      ]
    },
    {
      "cell_type": "code",
      "source": [
        "print(data.isnull().sum())\n"
      ],
      "metadata": {
        "colab": {
          "base_uri": "https://localhost:8080/"
        },
        "id": "waLPBpNTyRby",
        "outputId": "615c8b4a-b219-49f2-926a-009e2e25484c"
      },
      "execution_count": 3,
      "outputs": [
        {
          "output_type": "stream",
          "name": "stdout",
          "text": [
            "id                           0\n",
            "diagnosis                    0\n",
            "radius_mean                  0\n",
            "texture_mean                 0\n",
            "perimeter_mean               0\n",
            "area_mean                    0\n",
            "smoothness_mean              0\n",
            "compactness_mean             0\n",
            "concavity_mean               0\n",
            "concave points_mean          0\n",
            "symmetry_mean                0\n",
            "fractal_dimension_mean       0\n",
            "radius_se                    0\n",
            "texture_se                   0\n",
            "perimeter_se                 0\n",
            "area_se                      0\n",
            "smoothness_se                0\n",
            "compactness_se               0\n",
            "concavity_se                 0\n",
            "concave points_se            0\n",
            "symmetry_se                  0\n",
            "fractal_dimension_se         0\n",
            "radius_worst                 0\n",
            "texture_worst                0\n",
            "perimeter_worst              0\n",
            "area_worst                   0\n",
            "smoothness_worst             0\n",
            "compactness_worst            0\n",
            "concavity_worst              0\n",
            "concave points_worst         0\n",
            "symmetry_worst               0\n",
            "fractal_dimension_worst      0\n",
            "Unnamed: 32                569\n",
            "dtype: int64\n"
          ]
        }
      ]
    },
    {
      "cell_type": "code",
      "source": [
        "print(data.describe())\n",
        "print(data.shape)\n"
      ],
      "metadata": {
        "colab": {
          "base_uri": "https://localhost:8080/"
        },
        "id": "q_w4UvY-yTP4",
        "outputId": "0a157161-b6bb-40af-817f-b70e3a8140e4"
      },
      "execution_count": 4,
      "outputs": [
        {
          "output_type": "stream",
          "name": "stdout",
          "text": [
            "                 id  radius_mean  texture_mean  perimeter_mean    area_mean  \\\n",
            "count  5.690000e+02   569.000000    569.000000      569.000000   569.000000   \n",
            "mean   3.037183e+07    14.127292     19.289649       91.969033   654.889104   \n",
            "std    1.250206e+08     3.524049      4.301036       24.298981   351.914129   \n",
            "min    8.670000e+03     6.981000      9.710000       43.790000   143.500000   \n",
            "25%    8.692180e+05    11.700000     16.170000       75.170000   420.300000   \n",
            "50%    9.060240e+05    13.370000     18.840000       86.240000   551.100000   \n",
            "75%    8.813129e+06    15.780000     21.800000      104.100000   782.700000   \n",
            "max    9.113205e+08    28.110000     39.280000      188.500000  2501.000000   \n",
            "\n",
            "       smoothness_mean  compactness_mean  concavity_mean  concave points_mean  \\\n",
            "count       569.000000        569.000000      569.000000           569.000000   \n",
            "mean          0.096360          0.104341        0.088799             0.048919   \n",
            "std           0.014064          0.052813        0.079720             0.038803   \n",
            "min           0.052630          0.019380        0.000000             0.000000   \n",
            "25%           0.086370          0.064920        0.029560             0.020310   \n",
            "50%           0.095870          0.092630        0.061540             0.033500   \n",
            "75%           0.105300          0.130400        0.130700             0.074000   \n",
            "max           0.163400          0.345400        0.426800             0.201200   \n",
            "\n",
            "       symmetry_mean  ...  texture_worst  perimeter_worst   area_worst  \\\n",
            "count     569.000000  ...     569.000000       569.000000   569.000000   \n",
            "mean        0.181162  ...      25.677223       107.261213   880.583128   \n",
            "std         0.027414  ...       6.146258        33.602542   569.356993   \n",
            "min         0.106000  ...      12.020000        50.410000   185.200000   \n",
            "25%         0.161900  ...      21.080000        84.110000   515.300000   \n",
            "50%         0.179200  ...      25.410000        97.660000   686.500000   \n",
            "75%         0.195700  ...      29.720000       125.400000  1084.000000   \n",
            "max         0.304000  ...      49.540000       251.200000  4254.000000   \n",
            "\n",
            "       smoothness_worst  compactness_worst  concavity_worst  \\\n",
            "count        569.000000         569.000000       569.000000   \n",
            "mean           0.132369           0.254265         0.272188   \n",
            "std            0.022832           0.157336         0.208624   \n",
            "min            0.071170           0.027290         0.000000   \n",
            "25%            0.116600           0.147200         0.114500   \n",
            "50%            0.131300           0.211900         0.226700   \n",
            "75%            0.146000           0.339100         0.382900   \n",
            "max            0.222600           1.058000         1.252000   \n",
            "\n",
            "       concave points_worst  symmetry_worst  fractal_dimension_worst  \\\n",
            "count            569.000000      569.000000               569.000000   \n",
            "mean               0.114606        0.290076                 0.083946   \n",
            "std                0.065732        0.061867                 0.018061   \n",
            "min                0.000000        0.156500                 0.055040   \n",
            "25%                0.064930        0.250400                 0.071460   \n",
            "50%                0.099930        0.282200                 0.080040   \n",
            "75%                0.161400        0.317900                 0.092080   \n",
            "max                0.291000        0.663800                 0.207500   \n",
            "\n",
            "       Unnamed: 32  \n",
            "count          0.0  \n",
            "mean           NaN  \n",
            "std            NaN  \n",
            "min            NaN  \n",
            "25%            NaN  \n",
            "50%            NaN  \n",
            "75%            NaN  \n",
            "max            NaN  \n",
            "\n",
            "[8 rows x 32 columns]\n",
            "(569, 33)\n"
          ]
        }
      ]
    },
    {
      "cell_type": "code",
      "source": [
        "numeric_data = data.select_dtypes(include=[np.number])\n",
        "variances = numeric_data.var()\n",
        "print(variances.sort_values(ascending=False))\n"
      ],
      "metadata": {
        "colab": {
          "base_uri": "https://localhost:8080/"
        },
        "id": "njta5PRMyX6B",
        "outputId": "7639f021-32d5-473a-b8a5-64c3df4554d7"
      },
      "execution_count": 10,
      "outputs": [
        {
          "output_type": "stream",
          "name": "stdout",
          "text": [
            "id                         1.563015e+16\n",
            "area_worst                 3.241674e+05\n",
            "area_mean                  1.238436e+05\n",
            "area_se                    2.069432e+03\n",
            "perimeter_worst            1.129131e+03\n",
            "perimeter_mean             5.904405e+02\n",
            "texture_worst              3.777648e+01\n",
            "radius_worst               2.336022e+01\n",
            "texture_mean               1.849891e+01\n",
            "radius_mean                1.241892e+01\n",
            "perimeter_se               4.087896e+00\n",
            "texture_se                 3.043159e-01\n",
            "radius_se                  7.690235e-02\n",
            "concavity_worst            4.352409e-02\n",
            "compactness_worst          2.475477e-02\n",
            "concavity_mean             6.355248e-03\n",
            "concave points_worst       4.320741e-03\n",
            "symmetry_worst             3.827584e-03\n",
            "compactness_mean           2.789187e-03\n",
            "concave points_mean        1.505661e-03\n",
            "concavity_se               9.111982e-04\n",
            "symmetry_mean              7.515428e-04\n",
            "smoothness_worst           5.213198e-04\n",
            "fractal_dimension_worst    3.262094e-04\n",
            "compactness_se             3.207029e-04\n",
            "smoothness_mean            1.977997e-04\n",
            "symmetry_se                6.833290e-05\n",
            "fractal_dimension_mean     4.984872e-05\n",
            "concave points_se          3.807242e-05\n",
            "smoothness_se              9.015114e-06\n",
            "fractal_dimension_se       7.001692e-06\n",
            "Unnamed: 32                         NaN\n",
            "dtype: float64\n"
          ]
        }
      ]
    },
    {
      "cell_type": "markdown",
      "source": [
        "**2,Preprocessing**"
      ],
      "metadata": {
        "id": "ktH-oFOAzZnS"
      }
    },
    {
      "cell_type": "code",
      "source": [
        "data = data.drop(columns=['id', 'Unnamed: 32'])\n"
      ],
      "metadata": {
        "id": "YoFsvV4FzeXH"
      },
      "execution_count": 11,
      "outputs": []
    },
    {
      "cell_type": "code",
      "source": [
        "data['diagnosis'] = data['diagnosis'].map({'M': 1, 'B': 0})\n"
      ],
      "metadata": {
        "id": "RLH9kZ7Hzf0g"
      },
      "execution_count": 12,
      "outputs": []
    },
    {
      "cell_type": "code",
      "source": [
        "from sklearn.preprocessing import StandardScaler\n",
        "scaler = StandardScaler()\n",
        "features = data.drop(columns=['diagnosis'])\n",
        "features_scaled = scaler.fit_transform(features)\n"
      ],
      "metadata": {
        "id": "PjPEXOoTzgxO"
      },
      "execution_count": 13,
      "outputs": []
    },
    {
      "cell_type": "code",
      "source": [
        "from sklearn.model_selection import train_test_split\n",
        "X_train, X_test, y_train, y_test = train_test_split(features_scaled, data['diagnosis'], test_size=0.2, random_state=42)\n"
      ],
      "metadata": {
        "id": "7zto2olGzjUL"
      },
      "execution_count": 15,
      "outputs": []
    },
    {
      "cell_type": "markdown",
      "source": [
        "# **Exercise 2: Implementing KNN Model**"
      ],
      "metadata": {
        "id": "4TB3jNlZ0eH5"
      }
    },
    {
      "cell_type": "markdown",
      "source": [
        "**1,KNN Classifier Implementation:**\n",
        "\n",
        "\n",
        "\n",
        "\n",
        "\n"
      ],
      "metadata": {
        "id": "towN7QO70gpd"
      }
    },
    {
      "cell_type": "code",
      "source": [
        "from sklearn.neighbors import KNeighborsClassifier\n",
        "knn = KNeighborsClassifier(n_neighbors=5)\n",
        "knn.fit(X_train, y_train)\n",
        "predictions = knn.predict(X_test)\n"
      ],
      "metadata": {
        "id": "BIU_ZJfO0nb-"
      },
      "execution_count": 19,
      "outputs": []
    },
    {
      "cell_type": "code",
      "source": [
        "from sklearn.metrics import accuracy_score, confusion_matrix\n",
        "print('Accuracy:', accuracy_score(y_test, predictions))\n",
        "print('Confusion Matrix:\\n', confusion_matrix(y_test, predictions))\n"
      ],
      "metadata": {
        "colab": {
          "base_uri": "https://localhost:8080/"
        },
        "id": "SsQepBz908Uk",
        "outputId": "52fb6c10-99d8-402f-c539-6008009e3679"
      },
      "execution_count": 20,
      "outputs": [
        {
          "output_type": "stream",
          "name": "stdout",
          "text": [
            "Accuracy: 0.9473684210526315\n",
            "Confusion Matrix:\n",
            " [[68  3]\n",
            " [ 3 40]]\n"
          ]
        }
      ]
    },
    {
      "cell_type": "markdown",
      "source": [
        "**2,Experiment with different values of n_neighbors:**"
      ],
      "metadata": {
        "id": "JTLcoIMX1DmG"
      }
    },
    {
      "cell_type": "code",
      "source": [
        "import matplotlib.pyplot as plt\n",
        "neighbors = [3, 5, 7, 9]\n",
        "accuracies = []\n",
        "\n",
        "for n in neighbors:\n",
        "    knn = KNeighborsClassifier(n_neighbors=n)\n",
        "    knn.fit(X_train, y_train)\n",
        "    accuracies.append(knn.score(X_test, y_test))\n",
        "\n",
        "plt.plot(neighbors, accuracies)\n",
        "plt.xlabel('n_neighbors')\n",
        "plt.ylabel('Accuracy')\n",
        "plt.show()\n"
      ],
      "metadata": {
        "colab": {
          "base_uri": "https://localhost:8080/",
          "height": 450
        },
        "id": "S83QAns_1FEI",
        "outputId": "e09a00ca-435e-4ac6-e662-7ba1c142ff29"
      },
      "execution_count": 21,
      "outputs": [
        {
          "output_type": "display_data",
          "data": {
            "text/plain": [
              "<Figure size 640x480 with 1 Axes>"
            ],
            "image/png": "[encoded data removed]"
          },
          "metadata": {}
        }
      ]
    },
    {
      "cell_type": "markdown",
      "source": [
        "# **Exercise 3: Implementing Logistic Regression**"
      ],
      "metadata": {
        "id": "LtKBpePl1Yls"
      }
    },
    {
      "cell_type": "markdown",
      "source": [
        "**1,Logistic Regression Implementation**"
      ],
      "metadata": {
        "id": "Oa_oa4zF1ZGI"
      }
    },
    {
      "cell_type": "code",
      "source": [
        "from sklearn.linear_model import LogisticRegression\n",
        "lr = LogisticRegression()\n",
        "lr.fit(X_train, y_train)\n",
        "lr_predictions = lr.predict(X_test)\n"
      ],
      "metadata": {
        "id": "FyyVUVK216kV"
      },
      "execution_count": 22,
      "outputs": []
    },
    {
      "cell_type": "code",
      "source": [
        "from sklearn.metrics import classification_report\n",
        "print('Accuracy:', accuracy_score(y_test, lr_predictions))\n",
        "print('Confusion Matrix:\\n', confusion_matrix(y_test, lr_predictions))\n",
        "print('Classification Report:\\n', classification_report(y_test, lr_predictions))\n"
      ],
      "metadata": {
        "colab": {
          "base_uri": "https://localhost:8080/"
        },
        "id": "pWR8Ckyv18Bt",
        "outputId": "01a386cb-8782-44fb-fbe7-6b5be6f273f1"
      },
      "execution_count": 23,
      "outputs": [
        {
          "output_type": "stream",
          "name": "stdout",
          "text": [
            "Accuracy: 0.9736842105263158\n",
            "Confusion Matrix:\n",
            " [[70  1]\n",
            " [ 2 41]]\n",
            "Classification Report:\n",
            "               precision    recall  f1-score   support\n",
            "\n",
            "           0       0.97      0.99      0.98        71\n",
            "           1       0.98      0.95      0.96        43\n",
            "\n",
            "    accuracy                           0.97       114\n",
            "   macro avg       0.97      0.97      0.97       114\n",
            "weighted avg       0.97      0.97      0.97       114\n",
            "\n"
          ]
        }
      ]
    },
    {
      "cell_type": "markdown",
      "source": [
        "**2,Comparison of KNN and Logistic Regression:**"
      ],
      "metadata": {
        "id": "gsBftygs2TBr"
      }
    },
    {
      "cell_type": "code",
      "source": [
        "from sklearn.metrics import classification_report, accuracy_score\n",
        "knn_predictions = knn.predict(X_test)\n",
        "lr_predictions = lr.predict(X_test)\n",
        "\n",
        "knn_accuracy = accuracy_score(y_test, knn_predictions)\n",
        "lr_accuracy = accuracy_score(y_test, lr_predictions)\n",
        "print(f\"KNN Accuracy: {knn_accuracy}\")\n",
        "print(f\"Logistic Regression Accuracy: {lr_accuracy}\")\n",
        "\n",
        "print(\"KNN Classification Report:\")\n",
        "print(classification_report(y_test, knn_predictions))\n",
        "\n",
        "print(\"Logistic Regression Classification Report:\")\n",
        "print(classification_report(y_test, lr_predictions))\n"
      ],
      "metadata": {
        "colab": {
          "base_uri": "https://localhost:8080/"
        },
        "id": "lkhBU1zo2GyX",
        "outputId": "a98c1e2b-51b4-4382-abf8-7c845480cf8d"
      },
      "execution_count": 25,
      "outputs": [
        {
          "output_type": "stream",
          "name": "stdout",
          "text": [
            "KNN Accuracy: 0.9649122807017544\n",
            "Logistic Regression Accuracy: 0.9736842105263158\n",
            "KNN Classification Report:\n",
            "              precision    recall  f1-score   support\n",
            "\n",
            "           0       0.97      0.97      0.97        71\n",
            "           1       0.95      0.95      0.95        43\n",
            "\n",
            "    accuracy                           0.96       114\n",
            "   macro avg       0.96      0.96      0.96       114\n",
            "weighted avg       0.96      0.96      0.96       114\n",
            "\n",
            "Logistic Regression Classification Report:\n",
            "              precision    recall  f1-score   support\n",
            "\n",
            "           0       0.97      0.99      0.98        71\n",
            "           1       0.98      0.95      0.96        43\n",
            "\n",
            "    accuracy                           0.97       114\n",
            "   macro avg       0.97      0.97      0.97       114\n",
            "weighted avg       0.97      0.97      0.97       114\n",
            "\n"
          ]
        }
      ]
    },
    {
      "cell_type": "markdown",
      "source": [
        "# **Exercise 4: Hyperparameter Tuning and Cross-Validation**"
      ],
      "metadata": {
        "id": "Fc15jP-E2oQj"
      }
    },
    {
      "cell_type": "markdown",
      "source": [
        "**1,Grid Search for KNN**"
      ],
      "metadata": {
        "id": "zlxzi9uv2zi7"
      }
    },
    {
      "cell_type": "code",
      "source": [
        "from sklearn.model_selection import GridSearchCV\n",
        "param_grid = {'n_neighbors': [3, 5, 7, 9], 'weights': ['uniform', 'distance'], 'p': [1, 2]}\n",
        "grid_search = GridSearchCV(KNeighborsClassifier(), param_grid, cv=5)\n",
        "grid_search.fit(X_train, y_train)\n",
        "print('Best Params:', grid_search.best_params_)\n",
        "print('Best Score:', grid_search.best_score_)\n"
      ],
      "metadata": {
        "colab": {
          "base_uri": "https://localhost:8080/"
        },
        "id": "UAaonLOx2ne9",
        "outputId": "4c55b52b-a38c-4d1a-d3da-59ce8850ab3d"
      },
      "execution_count": 26,
      "outputs": [
        {
          "output_type": "stream",
          "name": "stdout",
          "text": [
            "Best Params: {'n_neighbors': 5, 'p': 1, 'weights': 'uniform'}\n",
            "Best Score: 0.9648351648351647\n"
          ]
        }
      ]
    },
    {
      "cell_type": "markdown",
      "source": [
        "**2,Cross-Validation for Logistic Regression:**"
      ],
      "metadata": {
        "id": "va1breaY3Ag6"
      }
    },
    {
      "cell_type": "code",
      "source": [
        "from sklearn.model_selection import cross_val_score\n",
        "scores = cross_val_score(LogisticRegression(), features_scaled, data['diagnosis'], cv=5)\n",
        "print('Cross-validated accuracy:', scores.mean())\n"
      ],
      "metadata": {
        "colab": {
          "base_uri": "https://localhost:8080/"
        },
        "id": "U7HJcFtq3DsD",
        "outputId": "632dd05c-f941-44bf-a919-0aeec7d2f0ce"
      },
      "execution_count": 27,
      "outputs": [
        {
          "output_type": "stream",
          "name": "stdout",
          "text": [
            "Cross-validated accuracy: 0.9806862288464524\n"
          ]
        }
      ]
    },
    {
      "cell_type": "markdown",
      "source": [
        "# **Exercise 5: Decision Boundary Visualization**"
      ],
      "metadata": {
        "id": "L4eEYA9u3H06"
      }
    },
    {
      "cell_type": "markdown",
      "source": [
        "**1,Reduce Dimensionality with PCA:**"
      ],
      "metadata": {
        "id": "6GDFrU-q3Ifi"
      }
    },
    {
      "cell_type": "code",
      "source": [
        "from sklearn.decomposition import PCA\n",
        "pca = PCA(n_components=2)\n",
        "X_train_pca = pca.fit_transform(X_train)\n",
        "X_test_pca = pca.transform(X_test)\n"
      ],
      "metadata": {
        "id": "dZiekHgp3SNE"
      },
      "execution_count": 28,
      "outputs": []
    },
    {
      "cell_type": "code",
      "source": [
        "from matplotlib.colors import ListedColormap\n",
        "import numpy as np\n",
        "\n",
        "def plot_decision_boundary(X, y, model):\n",
        "    h = .02\n",
        "    x_min, x_max = X[:, 0].min() - 1, X[:, 0].max() + 1\n",
        "    y_min, y_max = X[:, 1].min() - 1, X[:, 1].max() + 1\n",
        "    xx, yy = np.meshgrid(np.arange(x_min, x_max, h), np.arange(y_min, y_max, h))\n",
        "\n",
        "    Z = model.predict(np.c_[xx.ravel(), yy.ravel()])\n",
        "    Z = Z.reshape(xx.shape)\n",
        "\n",
        "    plt.contourf(xx, yy, Z, alpha=0.8)\n",
        "    plt.scatter(X[:, 0], X[:, 1], c=y, edgecolors='k', marker='o', s=20)\n",
        "    plt.show()\n",
        "\n",
        "knn_pca = KNeighborsClassifier(n_neighbors=5)\n",
        "knn_pca.fit(X_train_pca, y_train)\n",
        "plot_decision_boundary(X_test_pca, y_test, knn_pca)\n"
      ],
      "metadata": {
        "colab": {
          "base_uri": "https://localhost:8080/",
          "height": 430
        },
        "id": "VI2aPaUR3TXV",
        "outputId": "96182e4a-cd5b-4785-a57d-4b73dbcc9bb0"
      },
      "execution_count": 29,
      "outputs": [
        {
          "output_type": "display_data",
          "data": {
            "text/plain": [
              "<Figure size 640x480 with 1 Axes>"
            ],
            "image/png": "[encoded data removed]"
          },
          "metadata": {}
        }
      ]
    }
  ]
}